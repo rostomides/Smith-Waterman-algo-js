{
 "cells": [
  {
   "cell_type": "code",
   "execution_count": 32,
   "metadata": {},
   "outputs": [],
   "source": [
    "def editDistance(x, y):\n",
    "    # Initialize an x, y matrix with 0\n",
    "    mat = []\n",
    "    for i in range(len(x) + 1):\n",
    "        mat.append([0] * (len(y) + 1))\n",
    "    \n",
    "    #Initialize first column   0 -> len x + 1  \n",
    "    for i in range(0 , len(x) + 1):\n",
    "        mat[i][0] = i \n",
    "    \n",
    "    #Initialize first row   0 -> len y + 1  \n",
    "    for i in range(0 , len(y) + 1):\n",
    "        mat[0][i] = i \n",
    "        \n",
    "    #Filling the matrix\n",
    "    for i in range(1, len(x) + 1):\n",
    "        for j in range(1, len(y) + 1):\n",
    "            horz = mat[i][j-1] + 1\n",
    "            vert = mat[i-1][j] + 1\n",
    "            \n",
    "            diag = mat[i-1][j-1] if x[i-1] == y[j-1] else mat[i-1][j-1] + 1\n",
    "            mat[i][j] = min(horz, vert, diag)\n",
    "   \n",
    "        \n",
    "    return mat\n",
    "    "
   ]
  },
  {
   "cell_type": "code",
   "execution_count": 33,
   "metadata": {},
   "outputs": [
    {
     "data": {
      "text/plain": [
       "[[0, 1, 2, 3, 4, 5, 6],\n",
       " [1, 1, 2, 2, 3, 4, 5],\n",
       " [2, 2, 2, 2, 3, 4, 5],\n",
       " [3, 3, 2, 3, 3, 4, 4],\n",
       " [4, 4, 3, 3, 4, 4, 4],\n",
       " [5, 5, 4, 4, 3, 4, 5],\n",
       " [6, 6, 5, 5, 4, 3, 4],\n",
       " [7, 6, 6, 6, 5, 4, 4]]"
      ]
     },
     "execution_count": 33,
     "metadata": {},
     "output_type": "execute_result"
    }
   ],
   "source": [
    " editDistance(\"AAGGCCT\",\"TGACCG\")"
   ]
  },
  {
   "cell_type": "code",
   "execution_count": 36,
   "metadata": {},
   "outputs": [],
   "source": [
    "#Global alignment\n",
    "letters = [\"-\", \"A\",\"C\", \"G\", \"T\"]\n",
    "#         \"-\"    A    C    G      T\n",
    "scores = [\n",
    "    #   [- , A , C , G , T]\n",
    "        [-4, -4,-4, -4, -4], # -\n",
    "        [-4, 0, -2, -6,-6], # A\n",
    "        [-4, -2, 0, -6, -6], # C\n",
    "        [-4, -6, -6, 0, -2], # G\n",
    "        [-4, -6, -6, -2, 0], # T\n",
    "         ]"
   ]
  },
  {
   "cell_type": "code",
   "execution_count": 61,
   "metadata": {},
   "outputs": [],
   "source": [
    "def globalAlign(x, y):\n",
    "    # Initialize an x, y matrix with 0\n",
    "    mat = []\n",
    "    come_from={}\n",
    "    \n",
    "    for i in range(len(x) + 1):\n",
    "        mat.append([0] * (len(y) + 1))\n",
    "        \n",
    "    #Since the first cell in the mat is double gap -4\n",
    "    mat[0][0] = scores[letters.index(\"-\")][letters.index(\"-\")]\n",
    "    \n",
    "    \n",
    "    \n",
    "    #Initialize first column   0 -> len x + 1  \n",
    "    for i in range(1 , len(x) + 1):\n",
    "        mat[i][0] = mat[i-1][0] + scores[ letters.index(x[i-1]) ][letters.index(\"-\")]\n",
    "        come_from[str(i)+\"-\"+\"0\"] = []\n",
    "        come_from[str(i)+\"-\"+\"0\"].append(str(i-1)+\"-\"+\"0\")\n",
    "        \n",
    "    \n",
    "    #Initialize first row   0 -> len y + 1  \n",
    "    for i in range(1 , len(y) + 1):\n",
    "        mat[0][i] = mat[0][i-1] + scores[letters.index(\"-\")][ letters.index(x[i-1]) ]       \n",
    "        come_from[\"0\" +\"-\"+ str(i)] = []\n",
    "        come_from[\"0\" +\"-\"+ str(i)].append(\"0\" +\"-\"+ str(i-1))\n",
    "        \n",
    "        \n",
    "    #Filling the matrix\n",
    "    for i in range(1, len(x) + 1):\n",
    "        for j in range(1, len(y) + 1):\n",
    "            \n",
    "            come_from[str(i)+\"-\"+str(j)] = []\n",
    "            \n",
    "            horz = mat[i][j-1] + scores[ letters.index(x[i-1]) ][letters.index(x[j-1])] \n",
    "            vert = mat[i-1][j] + scores[ letters.index(x[i-1]) ][letters.index(x[j-1])] \n",
    "            \n",
    "            diag = mat[i-1][j-1] if x[i-1] == y[j-1] else mat[i-1][j-1] + scores[ letters.index(x[i-1]) ][letters.index(x[j-1])] \n",
    "            \n",
    "            maximum = max(horz, vert, diag)\n",
    "            mat[i][j] = maximum\n",
    "            \n",
    "            if horz == maximum:\n",
    "                 come_from[str(i) +\"-\"+ str(j)].append(str(i) + \"-\" + str(j-1))\n",
    "            if vert == maximum:\n",
    "                 come_from[str(i) +\"-\"+ str(j)].append(str(i-1) + \"-\" + str(j))\n",
    "            if diag == maximum:\n",
    "                 come_from[str(i) +\"-\"+ str(j)].append(str(i-1) + \"-\" + str(j-1))\n",
    "   \n",
    "        \n",
    "    return mat, come_from"
   ]
  },
  {
   "cell_type": "code",
   "execution_count": 62,
   "metadata": {},
   "outputs": [],
   "source": [
    "seq1 =\"AAGGCCT\" \n",
    "seq2 =\"AAG\"\n",
    "mat, come = globalAlign(seq1, seq2)"
   ]
  },
  {
   "cell_type": "code",
   "execution_count": 88,
   "metadata": {},
   "outputs": [],
   "source": [
    "class Node(object):\n",
    "    def __init__(self, value):\n",
    "        self.value = value\n",
    "        self.left = None\n",
    "        self.right = None\n",
    "        \n",
    "        \n",
    "class BinaryTree(object):\n",
    "    def __init__(self, root=None):\n",
    "        self.root = root \n",
    "    \n",
    "    def insert(self, value, dico):\n",
    "        if self.root==None:\n",
    "            self.root=Node(value)            \n",
    "        else:\n",
    "            self._search( value, self.root, dico)\n",
    "            \n",
    "    \n",
    "    def _search(self, value, current_node, dico):\n",
    "        if current_node.value==value and current_node.left!=None:\n",
    "            try:\n",
    "                current_node.left= Node(dico[current_node.value][0])\n",
    "            except:\n",
    "                return\n",
    "        else:\n",
    "            self._search(value, current_node.left, dico)"
   ]
  },
  {
   "cell_type": "code",
   "execution_count": 89,
   "metadata": {},
   "outputs": [],
   "source": [
    "tree = BinaryTree( str(len(seq1)) + \"-\" + str(len(seq2)) )"
   ]
  },
  {
   "cell_type": "code",
   "execution_count": null,
   "metadata": {},
   "outputs": [],
   "source": []
  },
  {
   "cell_type": "code",
   "execution_count": 77,
   "metadata": {},
   "outputs": [
    {
     "data": {
      "text/plain": [
       "['6-3']"
      ]
     },
     "execution_count": 77,
     "metadata": {},
     "output_type": "execute_result"
    }
   ],
   "source": [
    "come[str(len(seq1)) + \"-\" + str(len(seq2))]"
   ]
  },
  {
   "cell_type": "code",
   "execution_count": null,
   "metadata": {},
   "outputs": [],
   "source": []
  }
 ],
 "metadata": {
  "kernelspec": {
   "display_name": "Python 3",
   "language": "python",
   "name": "python3"
  },
  "language_info": {
   "codemirror_mode": {
    "name": "ipython",
    "version": 3
   },
   "file_extension": ".py",
   "mimetype": "text/x-python",
   "name": "python",
   "nbconvert_exporter": "python",
   "pygments_lexer": "ipython3",
   "version": "3.7.1"
  }
 },
 "nbformat": 4,
 "nbformat_minor": 2
}
