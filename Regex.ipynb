{
 "cells": [
  {
   "cell_type": "code",
   "execution_count": 1,
   "metadata": {},
   "outputs": [],
   "source": [
    "import re"
   ]
  },
  {
   "cell_type": "code",
   "execution_count": 2,
   "metadata": {},
   "outputs": [],
   "source": [
    "# Helper function to show Regex results\n",
    "def single_match_result(res):\n",
    "    if res is None:\n",
    "        return (\"No matches found for your query!\")\n",
    "    \n",
    "    #Get information about the matching\n",
    "\n",
    "    #Return the first words that matches the pattern\n",
    "    print(\"Match found: \" + res.group())\n",
    "\n",
    "    #Get the indecies of the matching \n",
    "    print(\"Match start: {}\".format(res.start()))\n",
    "\n",
    "    print(\"Match end: {}\".format(res.end()))\n",
    "\n",
    "    print(\"Match indices span: {}\".format(res.span()))\n",
    "\n",
    "    print(\"Query string: {}\".format(res.re))\n",
    "\n",
    "    print(\"Original string: {}\".format(res.string))\n"
   ]
  },
  {
   "cell_type": "markdown",
   "metadata": {},
   "source": [
    "## Search for a single match\n",
    "\n",
    "### re.match\n",
    "Check if a string starts with a given pattern\n",
    "\n",
    "\n"
   ]
  },
  {
   "cell_type": "code",
   "execution_count": 3,
   "metadata": {},
   "outputs": [],
   "source": [
    "string = \"Regular expressions are difficult but awesomely awesome\"\n",
    "\n",
    "found = re.match(\"Regular\", string)\n",
    "not_found = re.match(\"egular\", string) "
   ]
  },
  {
   "cell_type": "code",
   "execution_count": 4,
   "metadata": {},
   "outputs": [
    {
     "name": "stdout",
     "output_type": "stream",
     "text": [
      "Match found: Regular\n",
      "Match start: 0\n",
      "Match end: 7\n",
      "Match indices span: (0, 7)\n",
      "Query string: re.compile('Regular')\n",
      "Original string: Regular expressions are difficult but awesomely awesome\n"
     ]
    }
   ],
   "source": [
    "single_match_result(found)"
   ]
  },
  {
   "cell_type": "code",
   "execution_count": 5,
   "metadata": {},
   "outputs": [
    {
     "data": {
      "text/plain": [
       "'No matches found for your query!'"
      ]
     },
     "execution_count": 5,
     "metadata": {},
     "output_type": "execute_result"
    }
   ],
   "source": [
    "single_match_result(not_found)"
   ]
  },
  {
   "cell_type": "code",
   "execution_count": 6,
   "metadata": {},
   "outputs": [
    {
     "name": "stdout",
     "output_type": "stream",
     "text": [
      "Found !!!!\n"
     ]
    }
   ],
   "source": [
    "#using the results in an if statement\n",
    "if found:\n",
    "    print (\"Found !!!!\")"
   ]
  },
  {
   "cell_type": "code",
   "execution_count": 7,
   "metadata": {},
   "outputs": [
    {
     "name": "stdout",
     "output_type": "stream",
     "text": [
      "Not found !! \n",
      "Not found !!\n"
     ]
    }
   ],
   "source": [
    "# check if not found\n",
    "if not_found is None:\n",
    "    print(\"Not found !! \")\n",
    "    \n",
    "# Or\n",
    "if not not_found:\n",
    "    print(\"Not found !!\")"
   ]
  },
  {
   "cell_type": "markdown",
   "metadata": {},
   "source": [
    "### re.search \n",
    "Searches for a query anywhere in the string"
   ]
  },
  {
   "cell_type": "code",
   "execution_count": 8,
   "metadata": {},
   "outputs": [],
   "source": [
    "# let's check for words that derives from \"awesome\"\n",
    "\n",
    "string = \"Regular expressions are difficult but awesomely awesome\"\n",
    "\n",
    "found = re.search(\"awesome[a-z]*\", string)\n",
    "\n",
    "not_found = re.search(\"not found\", string)"
   ]
  },
  {
   "cell_type": "code",
   "execution_count": 9,
   "metadata": {},
   "outputs": [
    {
     "name": "stdout",
     "output_type": "stream",
     "text": [
      "Match found: awesomely\n",
      "Match start: 38\n",
      "Match end: 47\n",
      "Match indices span: (38, 47)\n",
      "Query string: re.compile('awesome[a-z]*')\n",
      "Original string: Regular expressions are difficult but awesomely awesome\n"
     ]
    }
   ],
   "source": [
    "single_match_result(found)"
   ]
  },
  {
   "cell_type": "code",
   "execution_count": 10,
   "metadata": {},
   "outputs": [
    {
     "data": {
      "text/plain": [
       "'No matches found for your query!'"
      ]
     },
     "execution_count": 10,
     "metadata": {},
     "output_type": "execute_result"
    }
   ],
   "source": [
    "single_match_result(not_found)"
   ]
  },
  {
   "cell_type": "markdown",
   "metadata": {},
   "source": [
    "## Search for multiple matches\n",
    "\n",
    "### re.findall\n",
    "\n",
    "Returns a list of the substrings that correspond to the query"
   ]
  },
  {
   "cell_type": "code",
   "execution_count": 11,
   "metadata": {},
   "outputs": [],
   "source": [
    "string = \"Regular expressions are difficult but awesomely awesome and awesomely awesome\"\n",
    "\n",
    "found = re.findall(\"awesome[a-z]*\", string)\n",
    "not_found = re.match(\"not found\", string) "
   ]
  },
  {
   "cell_type": "code",
   "execution_count": 12,
   "metadata": {},
   "outputs": [
    {
     "data": {
      "text/plain": [
       "[38, 48, 60, 70]"
      ]
     },
     "execution_count": 12,
     "metadata": {},
     "output_type": "execute_result"
    }
   ],
   "source": [
    "# Get all the starting indices of the matches\n",
    "#Important: In Jupyter notebook, be sure to execute this line in each cell before iterating on found_start_indices\n",
    "found_start_indices = re.finditer(\"awesome[a-z]*\", string)\n",
    "\n",
    "indices = [m.start() for m in found_start_indices]\n",
    "indices"
   ]
  },
  {
   "cell_type": "code",
   "execution_count": 13,
   "metadata": {},
   "outputs": [
    {
     "name": "stdout",
     "output_type": "stream",
     "text": [
      "awesomely span : (38, 47)\n",
      "awesome span : (48, 55)\n",
      "awesomely span : (60, 69)\n",
      "awesome span : (70, 77)\n"
     ]
    }
   ],
   "source": [
    "# Get the span of every occurence\n",
    "#Important: In Jupyter notebook, be sure to execute this line in each cell before iterating on found_start_indices\n",
    "found_start_indices = re.finditer(\"awesome[a-z]*\", string)\n",
    "\n",
    "for i in found_start_indices:\n",
    "    print(\"{} span : {}\".format(i.group(), i.span()))"
   ]
  },
  {
   "cell_type": "markdown",
   "metadata": {},
   "source": [
    "## String substitution\n",
    "\n",
    "### re.sub\n",
    "\n",
    "Substitutes all occurences of a pattern with another pattern"
   ]
  },
  {
   "cell_type": "code",
   "execution_count": 14,
   "metadata": {},
   "outputs": [
    {
     "data": {
      "text/plain": [
       "'Regular expressions are difficult but interstingly intersting and interstingly intersting'"
      ]
     },
     "execution_count": 14,
     "metadata": {},
     "output_type": "execute_result"
    }
   ],
   "source": [
    "string = \"Regular expressions are difficult but awesomely awesome and awesomely awesome\"\n",
    "\n",
    "substitute = re.sub(\"awesome\", \"intersting\", string) \n",
    "substitute"
   ]
  },
  {
   "cell_type": "code",
   "execution_count": 15,
   "metadata": {},
   "outputs": [
    {
     "name": "stdout",
     "output_type": "stream",
     "text": [
      "The new string is: Regular expressions are difficult but interstingly intersting and interstingly intersting\n",
      "The number of subtitutions is: 4\n"
     ]
    }
   ],
   "source": [
    "# If we want to get the new string with substitutions as well as the number of substitutions\n",
    "substitute_n = re.subn(\"awesome\", \"intersting\", string) \n",
    "\n",
    "print(\"The new string is: {}\".format(substitute_n[0]))\n",
    "print(\"The number of subtitutions is: {}\".format(substitute_n[1]))"
   ]
  },
  {
   "cell_type": "code",
   "execution_count": 16,
   "metadata": {},
   "outputs": [
    {
     "data": {
      "text/plain": [
       "'Regular expressions are difficult but awesome awesomely and awesome awesomely and moreover Awesome AWESOMELY'"
      ]
     },
     "execution_count": 16,
     "metadata": {},
     "output_type": "execute_result"
    }
   ],
   "source": [
    "# Let's suppose that we want to switch the positions of \"awesome\" and \"awesomely\"  \n",
    "\n",
    "string = \"Regular expressions are difficult but awesomely awesome and awesomely awesome and moreover AWESOMELY Awesome\"\n",
    "\n",
    "switch_words = re.sub(r\"(awesomely) (awesome)\", r\"\\2 \\1\", string, flags=re.IGNORECASE) \n",
    "switch_words"
   ]
  },
  {
   "cell_type": "code",
   "execution_count": 17,
   "metadata": {},
   "outputs": [
    {
     "data": {
      "text/plain": [
       "'Regular expression are difficult but awesome awesomely and awesome awesomely and moreover AWESOMELY Awesome'"
      ]
     },
     "execution_count": 17,
     "metadata": {},
     "output_type": "execute_result"
    }
   ],
   "source": [
    "# Let's suppose that we want to switch the positions of \"awesome\" and \"awesomely\" but only for the 2 first occurences \n",
    "\n",
    "string = \"Regular expression are difficult but awesomely awesome and awesomely awesome and moreover AWESOMELY Awesome\"\n",
    "\n",
    "switch_words = re.sub(r\"(awesomely) (awesome)\", r\"\\2 \\1\", string, flags=re.IGNORECASE, count=2) \n",
    "switch_words"
   ]
  },
  {
   "cell_type": "markdown",
   "metadata": {},
   "source": [
    "## Matching subgroups"
   ]
  },
  {
   "cell_type": "code",
   "execution_count": 18,
   "metadata": {},
   "outputs": [
    {
     "name": "stdout",
     "output_type": "stream",
     "text": [
      "First group: ['123aa45678', '859a56', '31a832']\n",
      "First group span: [(0, 10), (12, 18), (25, 31)]\n",
      "----------------------------------------\n",
      "Second group: ['123aa', '859a', '31a']\n",
      "Second group span: [(0, 5), (12, 16), (25, 28)]\n",
      "----------------------------------------\n",
      "Third group: ['123', '859', '31']\n",
      "Third group span: [(0, 3), (12, 15), (25, 27)]\n",
      "----------------------------------------\n",
      "Fourth group: ['aa', 'a', 'a']\n",
      "Fourth group span: [(3, 5), (15, 16), (27, 28)]\n",
      "----------------------------------------\n",
      "Fifth group: ['45678', '56', '832']\n",
      "Fifth group span: [(5, 10), (16, 18), (28, 31)]\n",
      "----------------------------------------\n"
     ]
    }
   ],
   "source": [
    "#Let's find matches for : 2 or 3 digits followed by 1 or 2 non digits then 2 or more digits\n",
    "string = \"123aa45678a9859a56sS42aaa31a832a8\"\n",
    "\n",
    "regex = re.compile(r\"(((\\d{2,3})(\\D{1,2}))(\\d+))\")\n",
    "\n",
    "# Note that we have several groups in the previous regex\n",
    "# Group 1 is the whole expression:  2 or 3 digits followed by 1 or 2 non digits then 2 or more digits\n",
    "print(\"First group: {}\".format([n.group(1) for n in regex.finditer(string)]))\n",
    "print(\"First group span: {}\".format([n.span(1) for n in regex.finditer(string)]))\n",
    "print(\"-\"*40)\n",
    "# Group 2: 2 or 3 digits followed by 1 or 2 non digits \n",
    "print(\"Second group: {}\".format([n.group(2) for n in regex.finditer(string)]))\n",
    "print(\"Second group span: {}\".format([n.span(2) for n in regex.finditer(string)]))\n",
    "print(\"-\"*40)\n",
    "# Group 3: the 2 or 3 first digits\n",
    "print(\"Third group: {}\".format([n.group(3) for n in regex.finditer(string)]))\n",
    "print(\"Third group span: {}\".format([n.span(3) for n in regex.finditer(string)]))\n",
    "print(\"-\"*40)\n",
    "# Group 4: 1 or 2 non digits that follow the 2 or 3 first digits\n",
    "print(\"Fourth group: {}\".format([n.group(4) for n in regex.finditer(string)]))\n",
    "print(\"Fourth group span: {}\".format([n.span(4) for n in regex.finditer(string)]))\n",
    "print(\"-\"*40)\n",
    "# Group 5: 2 or more digits that follow the previous 3 groups\n",
    "print(\"Fifth group: {}\".format([n.group(5) for n in regex.finditer(string)]))\n",
    "print(\"Fifth group span: {}\".format([n.span(5) for n in regex.finditer(string)]))\n",
    "print(\"-\"*40)\n",
    "\n",
    "\n",
    "#from each detected group let's get the digit part (group 2)\n"
   ]
  },
  {
   "cell_type": "markdown",
   "metadata": {},
   "source": [
    "## Conditional matching"
   ]
  },
  {
   "cell_type": "code",
   "execution_count": 5,
   "metadata": {},
   "outputs": [
    {
     "name": "stdout",
     "output_type": "stream",
     "text": [
      "12 Hc3c66pH666\n",
      "1HHH9965P5p9cc5555555555\n"
     ]
    }
   ],
   "source": [
    "#Check if a string contains 2 uppercase letters, 3 lowercase letters and starts and ends with numbers\n",
    "string = \"12 Hc3c66pH666\"\n",
    "\n",
    "print(re.search(r\"^[0-9](?=.*[A-Z]){2}(?=.*[a-z]){3}.*[0-9]$\", string).group())\n",
    "\n",
    "string = \"1HHH9965P5p9cc5555555555\"\n",
    "print(re.search(r\"^[0-9](?=.*[A-Z]){2}(?=.*[a-z]){3}.*[0-9]$\", string).group())\n",
    "\n",
    "string = \"HHH9965P5p9cc5555555555\"\n",
    "# print(re.search(r\"^[0-9](?=.*[A-Z]){2}(?=.*[a-z]){3}.*[0-9]$\", string).group())"
   ]
  },
  {
   "cell_type": "code",
   "execution_count": 19,
   "metadata": {},
   "outputs": [
    {
     "name": "stdout",
     "output_type": "stream",
     "text": [
      "Starting indices are [0, 1, 5, 6, 7, 8, 11, 12, 13, 16, 20, 25, 28, 29]: \n",
      "Found matches: 123aa - spans: (0, 5)\n",
      "Found matches: 23aa - spans: (1, 5)\n",
      "Found matches: 45678 - spans: (5, 10)\n",
      "Found matches: 5678a - spans: (6, 11)\n",
      "Found matches: 678a9 - spans: (7, 12)\n",
      "Found matches: 78a9 - spans: (8, 12)\n",
      "Found matches: 9859a - spans: (11, 16)\n",
      "Found matches: 859a5 - spans: (12, 17)\n",
      "Found matches: 59a5 - spans: (13, 17)\n",
      "Found matches: 56sS - spans: (16, 20)\n",
      "Found matches: 42aa - spans: (20, 24)\n",
      "Found matches: 31a8 - spans: (25, 29)\n",
      "Found matches: 832a8 - spans: (28, 33)\n",
      "Found matches: 32a8 - spans: (29, 33)\n"
     ]
    }
   ],
   "source": [
    "#Let's find all the matches for 2 or 3 didgits followed by 1 or 2 letters\n",
    "string = \"123aa45678a9859a56sS42aaa31a832a8\"\n",
    "regex = re.compile(r\"(?=(\\d{2,3}\\w{1,2}))\")\n",
    "\n",
    "indices = [n.start() for n in regex.finditer(string)]\n",
    "print(\"Starting indices are {}: \".format(indices))\n",
    "\n",
    "for i in  regex.finditer(string):    \n",
    "    print(\"Found matches: {} - spans: {}\".format(i.group(1), i.span(1)))"
   ]
  },
  {
   "cell_type": "markdown",
   "metadata": {},
   "source": [
    "## Find overlapping matches"
   ]
  },
  {
   "cell_type": "code",
   "execution_count": 20,
   "metadata": {},
   "outputs": [
    {
     "name": "stdout",
     "output_type": "stream",
     "text": [
      "Starting indices are [0, 4, 5, 6, 7, 8, 9, 10, 14, 15, 24]: \n",
      "Found matches: 123 - spans: (0, 3)\n",
      "Found matches: 456 - spans: (4, 7)\n",
      "Found matches: 567 - spans: (5, 8)\n",
      "Found matches: 678 - spans: (6, 9)\n",
      "Found matches: 789 - spans: (7, 10)\n",
      "Found matches: 898 - spans: (8, 11)\n",
      "Found matches: 985 - spans: (9, 12)\n",
      "Found matches: 859 - spans: (10, 13)\n",
      "Found matches: 564 - spans: (14, 17)\n",
      "Found matches: 642 - spans: (15, 18)\n",
      "Found matches: 832 - spans: (24, 27)\n"
     ]
    }
   ],
   "source": [
    "#let's find all the matches for 3 consecutive number\n",
    "string = \"123a456789859a5642aaa31a832a8\"\n",
    "\n",
    "regex = re.compile(r\"(?=(\\d{3}))\")\n",
    "\n",
    "regex.finditer(string)\n",
    "\n",
    "indices = [n.start() for n in regex.finditer(string)]\n",
    "\n",
    "print(\"Starting indices are {}: \".format(indices))\n",
    "\n",
    "for i in  regex.finditer(string):    \n",
    "    print(\"Found matches: {} - spans: {}\".format(i.group(1), i.span(1)))\n",
    "    "
   ]
  }
 ],
 "metadata": {
  "kernelspec": {
   "display_name": "Python 3",
   "language": "python",
   "name": "python3"
  },
  "language_info": {
   "codemirror_mode": {
    "name": "ipython",
    "version": 3
   },
   "file_extension": ".py",
   "mimetype": "text/x-python",
   "name": "python",
   "nbconvert_exporter": "python",
   "pygments_lexer": "ipython3",
   "version": "3.7.1"
  }
 },
 "nbformat": 4,
 "nbformat_minor": 2
}
